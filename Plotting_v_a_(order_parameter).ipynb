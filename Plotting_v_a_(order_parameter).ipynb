{
  "nbformat": 4,
  "nbformat_minor": 0,
  "metadata": {
    "colab": {
      "name": "Plotting v_a (order parameter)",
      "provenance": [],
      "collapsed_sections": []
    },
    "kernelspec": {
      "display_name": "Python 3",
      "name": "python3"
    }
  },
  "cells": [
    {
      "cell_type": "markdown",
      "metadata": {
        "id": "ePmtlW7niC0l"
      },
      "source": [
        "**For Plotting v_a Against Parameters**"
      ]
    },
    {
      "cell_type": "markdown",
      "metadata": {
        "id": "oHckfXUFJVq6"
      },
      "source": [
        "\n",
        "\n",
        "---\n",
        "\n",
        "\n",
        "**For v_a vs rho (density)**\n",
        "\n",
        "\n",
        "*   Density is varied and the corresponding value of order parameter v_a is calculated. Since, density is given by\n",
        "\n",
        "\n",
        "    rho = N/(L*L) (1.1)\n",
        "    L = 20 (Fixed)\n",
        "    therefore, N is varied.\n",
        "\n",
        "\n",
        "\n",
        "*   Noise(eta) is kept constant at some value. \n",
        "\n",
        "*   We take 24 different values of N. For all of these different N, the initial random allotment of positions is different. \n",
        "\n",
        "*   v_a is calculated for all these 24 different values of rho resulting from changing the number of particles (N) \n",
        "\n",
        "*   A plot of rho (x-axis) vs v_a (y-axis) is drawn\n",
        "\n",
        "**Algorithm** (Aim: Vary rho and calculate v_a)\n",
        "\n",
        "\n",
        "1.   An array of 24 numbers (all of which denote the number of particles N) is formed\n",
        "2.   The vicsek simulation is run for this array of numbers (we can either input the number of particles each time or automate it using this array)\n",
        "\n",
        "3.   v_a is calculated for each of these 24 numbers in the array and all the calculated values are in turned stored in another array v_as (as done before)\n",
        "4.   rho is calculated using equation (1.1) and the values are stored in an array\n",
        "5. A plot of rho vs v_a is drawn (with rho in the x-axis and v_a in the y-axis)\n",
        "\n",
        "---\n",
        "\n"
      ]
    },
    {
      "cell_type": "markdown",
      "metadata": {
        "id": "NZWV8o8GNvV8"
      },
      "source": [
        "**For v_a vs eta (noise)**\n",
        "\n",
        "\n",
        "*   Noise is varied and the corresponding value of order parameter v_a is calculated. \n",
        "\n",
        "*   Density (rho) is kept constant at some value. \n",
        "*   To keep the density constant, the value of N and L for each run is changed as follows: \n",
        "      1. N = 40, L = 3.1\n",
        "      2. N = 100, L = 5\n",
        "      3. N = 400, L = 10\n",
        "      4. N = 4000, L = 31.6\n",
        "      5. N = 10000, L = 50\n",
        "*   A value of N and L is taken from the list, and the vicsek simualtion is run several times by changing the noise at each time.\n",
        "\n",
        "*   v_a is calculated for all these different values of eta resulting from changing the noise (N) \n",
        "* The same process is repeated with the other values of N and L from the list\n",
        "\n",
        "*   A plot of eta (x-axis) vs v_a (y-axis) is drawn for each value of N and L from the list. All of these 5 plots are then merged into a single plot to get a holistic picture\n",
        "\n",
        "**Algorithm** (Aim: Vary eta and calculate v_a for 5 different values of N and L)\n",
        "\n",
        "1. The value of N and L is chosen from the list and manually changed into the program\n",
        "\n",
        "2. An array of 150 numbers is chosen between 0 to 5 (all of which denote eta ) \n",
        "2.   For a chosen N and L, the vicsek simulation is run 150 times for this array of numbers containing different values for Noise (eta) \n",
        "\n",
        "3.   v_a is calculated for each of these 100 numbers in the array and all the calculated values are in turned stored in another array v_as (as done before)\n",
        "4.   The process 1, 2, 3 and 4 is then repeated for the remaining values of N and L in the list.\n",
        "5. A plot of eta vs v_a is drawn (with eta in the x-axis and v_a in the y-axis) for all different values of N and L.\n",
        "6.  All these plots are merged into one to get a holistic picture\n",
        "\n",
        "*(Tip: Plot using another platform or software if colab is making it difficult)*\n",
        "\n",
        "---"
      ]
    },
    {
      "cell_type": "code",
      "metadata": {
        "id": "YhdwYIUPiVuM"
      },
      "source": [
        "import numpy as np\n",
        "import matplotlib.pyplot as plt\n",
        "from matplotlib import animation as animation\n",
        "from IPython import display"
      ],
      "execution_count": null,
      "outputs": []
    },
    {
      "cell_type": "code",
      "metadata": {
        "id": "r1mpOTGxh92K"
      },
      "source": [
        "def get_v_a(pos, theta, eta, L, N, t):\n",
        "  # Define parameters\n",
        "  r = 1 # Interaction radius of particle\n",
        "  del_t = 1 # Time step\n",
        "  v = 0.03 # Velocity of particles\n",
        "\n",
        "  # Get Vicsek Model final state\n",
        "  for k in range(t):  \n",
        "    for i in range(N): \n",
        "      x1 = pos[i][0]\n",
        "      y1 = pos[i][1]\n",
        "      sine = []\n",
        "      cosine = []\n",
        "      # scanning for the ith particle\n",
        "      for j in range(N):\n",
        "        x2 = pos[j][0]\n",
        "        y2 = pos[j][1]\n",
        "        if (x2-x1)*(x2-x1) + (y2-y1)*(y2-y1) <= r: # scanning the particles present inside and on the boundary of the interaction radius\n",
        "          sine.append(np.sin(theta[j]))\n",
        "          cosine.append(np.cos(theta[j]))\n",
        "      avg_sin = np.average(sine)\n",
        "      avg_cos = np.average(cosine)\n",
        "      avg_theta = np.arctan(float(avg_sin/avg_cos)) # average direction of all the particles in the interaction radius\n",
        "      rand_numb = np.random.uniform(-0.5*eta, 0.5*eta, size = 1) # random noise allotment\n",
        "      theta[i] = avg_theta + rand_numb[0] # updating theta (direction of velocity of ith particle)\n",
        "\n",
        "      pos[i][0] = pos[i][0] + v*np.cos(theta[i]) # updating x coordinate of ith particle\n",
        "      pos[i][1] = pos[i][1] + v*np.sin(theta[i]) # updating y coordinate of ith particle\n",
        "\n",
        "      # for periodic boundary conditions \n",
        "      if pos[i][0] > L:\n",
        "        pos[i][0] = pos[i][0] - L\n",
        "      if pos[i][0] < 0:\n",
        "        pos[i][0] = pos[i][0] + L\n",
        "\n",
        "      if pos[i][1] > L:\n",
        "        pos[i][1] = pos[i][1] - L\n",
        "      if pos[i][1] < 0:\n",
        "        pos[i][1] = pos[i][1] + L\n",
        "  \n",
        "  # Calculate v_a\n",
        "  c_sum = np.sum(np.cos(theta))\n",
        "  s_sum = np.sum(np.sin(theta))\n",
        "  c_square = c_sum*c_sum\n",
        "  s_square = s_sum*s_sum\n",
        "  root = np.sqrt(c_square + s_square)\n",
        "  v_a = root/N\n",
        "  return v_a"
      ],
      "execution_count": null,
      "outputs": []
    },
    {
      "cell_type": "code",
      "metadata": {
        "id": "o1NsKdqciKI4"
      },
      "source": [
        "L = 20 # Length of the cell\n",
        "eta = 0.7 # Noise\n",
        "t = 1000 # no. of iterations\n",
        "N = np.arange(40, 4000, 165) # array of 24 numbers each representing N\n",
        "rhos = N/(L*L) # Array of particle number densities\n",
        "v_as = []\n",
        "\n",
        "# rho versus v_a for fixed noise(eta)\n",
        "for nu in N: \n",
        "  pos = np.random.uniform(0,L,size=(nu,2))\n",
        "  theta = np.random.uniform(-np.pi, np.pi,size=nu)\n",
        "  v_a = get_v_a(pos, theta, eta, L, nu, t)\n",
        "  print(f\"Got {v_a} for {nu}.\")\n",
        "  v_as.append(v_a)\n",
        "\n",
        "fig, ax= plt.subplots(figsize=(6,6))\n",
        "plt.scatter(rhos,v_as)\n",
        "plt.xlabel(\"rho\")\n",
        "plt.ylabel(\"v_a\")\n",
        "plt.title('rho versus v_a')"
      ],
      "execution_count": null,
      "outputs": []
    },
    {
      "cell_type": "code",
      "metadata": {
        "id": "yE5Jk77WiP7W",
        "colab": {
          "base_uri": "https://localhost:8080/"
        },
        "outputId": "2c657155-a0cb-4909-81f1-853c5c5ed6a0"
      },
      "source": [
        "rho = 4 # Particle number density (approx.)\n",
        "N = 1000\n",
        "L = 15.8\n",
        "t = 1000\n",
        "etas = np.linspace(0.01, 5, 50 ) # Array of noises\n",
        "v_as = []\n",
        "\n",
        "pos = np.random.uniform(0,L,size=(N,2))\n",
        "theta = np.random.uniform(-np.pi, np.pi,size=N)\n",
        "\n",
        "# eta versus v_a for fixed density\n",
        "for et in etas:\n",
        "  v_a = get_v_a(pos, theta, et, L, N, t)\n",
        "  print(f\"Got {v_a} for {et}.\")\n",
        "  v_as.append(v_a)\n",
        "\n",
        "plt.scatter(etas,v_as)\n",
        "plt.xlabel(\"eta\")\n",
        "plt.ylabel(\"v_a\")\n",
        "plt.title('eta versus v_a')"
      ],
      "execution_count": null,
      "outputs": [
        {
          "output_type": "stream",
          "name": "stdout",
          "text": [
            "Got 0.9999931352064491 for 0.01.\n",
            "Got 0.9988684373223937 for 0.11183673469387755.\n",
            "Got 0.9955150185357274 for 0.2136734693877551.\n",
            "Got 0.9915867579806839 for 0.31551020408163266.\n",
            "Got 0.980812583381166 for 0.4173469387755102.\n",
            "Got 0.9757312665346594 for 0.5191836734693878.\n",
            "Got 0.9666055054300585 for 0.6210204081632653.\n",
            "Got 0.9258740500506797 for 0.7228571428571429.\n",
            "Got 0.9517748679893917 for 0.8246938775510204.\n",
            "Got 0.9316409596134902 for 0.926530612244898.\n",
            "Got 0.9257754066101691 for 1.0283673469387755.\n",
            "Got 0.9029605389550114 for 1.130204081632653.\n",
            "Got 0.6482182956680425 for 1.2320408163265306.\n"
          ]
        }
      ]
    },
    {
      "cell_type": "code",
      "metadata": {
        "id": "6EPTUVRHbD9_"
      },
      "source": [
        "\n",
        "\n",
        "\n",
        "\n",
        "\n",
        "\n",
        "\n",
        "\n",
        "\n",
        "\n",
        "\n",
        "\n",
        "\n",
        "\n",
        "\n",
        "\n",
        "\n",
        "\n",
        "\n",
        "\n",
        "\n",
        "\n",
        "\n",
        "\n",
        "\n",
        "\n",
        "\n",
        "\n",
        "\n",
        "\n",
        "\n",
        "\n",
        "\n",
        "\n",
        "\n",
        "\n",
        "\n"
      ],
      "execution_count": null,
      "outputs": []
    },
    {
      "cell_type": "markdown",
      "metadata": {
        "id": "oJiHnmhpbDaC"
      },
      "source": [
        "\\noindent In Figure \\ref{fig:2.2}, the change in order parameter $v_a$ is plotted by varying noise and density, keeping the other fixed.\\\\It can be inferred from Figure \\ref{fig:2.2}(a) that as the amount of noise is decreased, the order parameter reaches 1, thus transitioning from disorded to ordered motion.the behaviour of the kinetic order parameter $v_a$ is similar to that of the order parameter of some equilibrium systems (Figure \\ref{fig:1.2}) close to their critical point."
      ]
    }
  ]
}